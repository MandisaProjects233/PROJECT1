{
 "cells": [
  {
   "cell_type": "code",
   "execution_count": null,
   "id": "f394eb03",
   "metadata": {},
   "outputs": [],
   "source": [
    "print(\"BMI CALCULATOR\")\n",
    "weight =float(input(\"what is your current body weight:\"))  #in killograms\n",
    "Height =float(input(\"what is your current height:\"))  #in meters\n",
    "bmi = weight/Height*Height\n",
    "if bmi < 18.28:\n",
    "    print(\"Your BMI is {bmi},you are underweight.\")\n",
    "if bmi < 22.0: \n",
    "    print(f\"Your BMI is {bmi},you have a normal weight.\")\n",
    "elif bmi  < 28.50:\n",
    "    print(f\"Your BMI is {bmi},you are slightly overweight.\")  \n",
    "elif bmi < 32.56:\n",
    "    print(f\"Your BMI is {bmi},Your BMI is {bmi},you are overweight.\") \n",
    "elif bmi  < 37.50:\n",
    "    print(f\"Your BMI is {bmi},you are slightly obese.\") \n",
    "else:\n",
    "    print(f\"Your BMI is {bmi},you are obese.\")\n"
   ]
  }
 ],
 "metadata": {
  "kernelspec": {
   "display_name": "Python 3 (ipykernel)",
   "language": "python",
   "name": "python3"
  },
  "language_info": {
   "codemirror_mode": {
    "name": "ipython",
    "version": 3
   },
   "file_extension": ".py",
   "mimetype": "text/x-python",
   "name": "python",
   "nbconvert_exporter": "python",
   "pygments_lexer": "ipython3",
   "version": "3.11.5"
  }
 },
 "nbformat": 4,
 "nbformat_minor": 5
}
